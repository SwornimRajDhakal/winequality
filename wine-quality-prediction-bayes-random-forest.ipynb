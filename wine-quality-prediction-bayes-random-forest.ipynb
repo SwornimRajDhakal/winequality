{
 "cells": [
  {
   "cell_type": "markdown",
   "metadata": {
    "id": "8ivZn4oYUeh-"
   },
   "source": [
    "# Wine Quality Prediction using Decision Trees"
   ]
  },
  {
   "cell_type": "markdown",
   "metadata": {
    "id": "SKNuW-dAUeiC"
   },
   "source": [
    "This dataset is related to red variants of the Portuguese \"Vinho Verde\" wine. Due to privacy and logistic issues, only physicochemical (inputs) and sensory (the output) variables are available (e.g. there is no data about grape types, wine brand, wine selling price, etc.). These datasets can be viewed as classification or regression tasks. The classes are ordered and not balanced (e.g. there are much more normal wines than excellent or poor ones)."
   ]
  },
  {
   "cell_type": "markdown",
   "metadata": {
    "id": "YPN5pHZbUeiD",
    "tags": []
   },
   "source": [
    "## Problem Statement:\n",
    "    \n",
    "We will apply a method of assessing wine quality using a Random Forest Algorithm, with hyperparameter tuning using skopt's baye search."
   ]
  },
  {
   "cell_type": "markdown",
   "metadata": {
    "id": "UWdyIsxiUeiE"
   },
   "source": [
    "#### Number of Instances: \n",
    "- red wine - 1599; white wine - 4898. \n",
    "\n",
    "### Attribute information:\n",
    "  - Input variables (based on physicochemical tests):\n",
    "      1. fixed acidity (tartaric acid - g / dm^3)\n",
    "      2. volatile acidity (acetic acid - g / dm^3)\n",
    "      3. citric acid (g / dm^3)\n",
    "      4. residual sugar (g / dm^3)\n",
    "      5. chlorides (sodium chloride - g / dm^3\n",
    "      6. free sulfur dioxide (mg / dm^3)\n",
    "      7. total sulfur dioxide (mg / dm^3)\n",
    "      8. density (g / cm^3)\n",
    "      9. pH\n",
    "      10. sulphates (potassium sulphate - g / dm3)\n",
    "      11. alcohol (% by volume)\n",
    "  - Output variable (based on sensory data): \n",
    "      - quality (score between 0 and 10)\n",
    "\n",
    "\n",
    "### Missing Attribute Values: None"
   ]
  },
  {
   "cell_type": "markdown",
   "metadata": {
    "id": "f7S9zOVLUeiE"
   },
   "source": [
    "### Description of attributes:\n",
    "\n",
    "   1 - fixed acidity: most acids involved with wine or fixed or nonvolatile (do not evaporate readily)\n",
    "\n",
    "   2 - volatile acidity: the amount of acetic acid in wine, which at too high of levels can lead to an unpleasant, vinegar taste\n",
    "\n",
    "   3 - citric acid: found in small quantities, citric acid can add 'freshness' and flavor to wines\n",
    "\n",
    "   4 - residual sugar: the amount of sugar remaining after fermentation stops, it's rare to find wines with less than 1 gram/liter and wines with greater than 45 grams/liter are considered sweet\n",
    "\n",
    "   5 - chlorides: the amount of salt in the wine\n",
    "\n",
    "   6 - free sulfur dioxide: the free form of SO2 exists in equilibrium between molecular SO2 (as a dissolved gas) and bisulfite ion; it prevents microbial growth and the oxidation of wine\n",
    "\n",
    "   7 - total sulfur dioxide: amount of free and bound forms of S02; in low concentrations, SO2 is mostly undetectable in wine, but at free SO2 concentrations over 50 ppm, SO2 becomes evident in the nose and taste of wine\n",
    "\n",
    "   8 - density: the density of water is close to that of water depending on the percent alcohol and sugar content\n",
    "\n",
    "   9 - pH: describes how acidic or basic a wine is on a scale from 0 (very acidic) to 14 (very basic); most wines are between 3-4 on the pH scale\n",
    "\n",
    "   10 - sulphates: a wine additive which can contribute to sulfur dioxide gas (S02) levels, wich acts as an antimicrobial and antioxidant\n",
    "\n",
    "   11 - alcohol: the percent alcohol content of the wine\n",
    "\n",
    "   Output variable (based on sensory data): \n",
    "   12 - quality (score between 0 and 10)\n"
   ]
  },
  {
   "cell_type": "code",
   "execution_count": 1,
   "metadata": {
    "execution": {
     "iopub.execute_input": "2023-04-11T13:54:42.051911Z",
     "iopub.status.busy": "2023-04-11T13:54:42.050954Z",
     "iopub.status.idle": "2023-04-11T13:54:42.092350Z",
     "shell.execute_reply": "2023-04-11T13:54:42.091413Z",
     "shell.execute_reply.started": "2023-04-11T13:54:42.051848Z"
    }
   },
   "outputs": [],
   "source": [
    "# This Python 3 environment comes with many helpful analytics libraries installed\n",
    "# It is defined by the kaggle/python Docker image: https://github.com/kaggle/docker-python\n",
    "# For example, here's several helpful packages to load\n",
    "\n",
    "import numpy as np # linear algebra\n",
    "import pandas as pd # data processing, CSV file I/O (e.g. pd.read_csv)\n",
    "\n",
    "# Input data files are available in the read-only \"../input/\" directory\n",
    "# For example, running this (by clicking run or pressing Shift+Enter) will list all files under the input directory\n",
    "\n",
    "import os\n",
    "for dirname, _, filenames in os.walk('/kaggle/input'):\n",
    "    for filename in filenames:\n",
    "        print(os.path.join(dirname, filename))\n",
    "\n",
    "# You can write up to 20GB to the current directory (/kaggle/working/) that gets preserved as output when you create a version using \"Save & Run All\" \n",
    "# You can also write temporary files to /kaggle/temp/, but they won't be saved outside of the current session"
   ]
  },
  {
   "cell_type": "code",
   "execution_count": 4,
   "metadata": {
    "execution": {
     "iopub.execute_input": "2023-04-11T13:54:42.095000Z",
     "iopub.status.busy": "2023-04-11T13:54:42.094030Z",
     "iopub.status.idle": "2023-04-11T13:54:43.348749Z",
     "shell.execute_reply": "2023-04-11T13:54:43.347270Z",
     "shell.execute_reply.started": "2023-04-11T13:54:42.094948Z"
    }
   },
   "outputs": [
    {
     "ename": "ModuleNotFoundError",
     "evalue": "No module named 'seaborn'",
     "output_type": "error",
     "traceback": [
      "\u001b[1;31m---------------------------------------------------------------------------\u001b[0m",
      "\u001b[1;31mModuleNotFoundError\u001b[0m                       Traceback (most recent call last)",
      "\u001b[1;32m<ipython-input-4-4788dd27fa81>\u001b[0m in \u001b[0;36m<module>\u001b[1;34m\u001b[0m\n\u001b[0;32m      1\u001b[0m \u001b[1;32mfrom\u001b[0m \u001b[0mmatplotlib\u001b[0m \u001b[1;32mimport\u001b[0m \u001b[0mpyplot\u001b[0m \u001b[1;32mas\u001b[0m \u001b[0mplt\u001b[0m\u001b[1;33m\u001b[0m\u001b[1;33m\u001b[0m\u001b[0m\n\u001b[0;32m      2\u001b[0m \u001b[0mget_ipython\u001b[0m\u001b[1;33m(\u001b[0m\u001b[1;33m)\u001b[0m\u001b[1;33m.\u001b[0m\u001b[0mrun_line_magic\u001b[0m\u001b[1;33m(\u001b[0m\u001b[1;34m'matplotlib'\u001b[0m\u001b[1;33m,\u001b[0m \u001b[1;34m'inline'\u001b[0m\u001b[1;33m)\u001b[0m\u001b[1;33m\u001b[0m\u001b[1;33m\u001b[0m\u001b[0m\n\u001b[1;32m----> 3\u001b[1;33m \u001b[1;32mimport\u001b[0m \u001b[0mseaborn\u001b[0m\u001b[1;33m\u001b[0m\u001b[1;33m\u001b[0m\u001b[0m\n\u001b[0m\u001b[0;32m      4\u001b[0m \u001b[1;32mimport\u001b[0m \u001b[0mseaborn\u001b[0m \u001b[1;32mas\u001b[0m \u001b[0msns\u001b[0m\u001b[1;33m\u001b[0m\u001b[1;33m\u001b[0m\u001b[0m\n\u001b[0;32m      5\u001b[0m \u001b[0msns\u001b[0m\u001b[1;33m.\u001b[0m\u001b[0mset\u001b[0m\u001b[1;33m(\u001b[0m\u001b[0mstyle\u001b[0m\u001b[1;33m=\u001b[0m\u001b[1;34m'darkgrid'\u001b[0m\u001b[1;33m)\u001b[0m\u001b[1;33m\u001b[0m\u001b[1;33m\u001b[0m\u001b[0m\n",
      "\u001b[1;31mModuleNotFoundError\u001b[0m: No module named 'seaborn'"
     ]
    }
   ],
   "source": [
    "from matplotlib import pyplot as plt\n",
    "%matplotlib inline\n",
    "import seaborn\n",
    "import seaborn as sns\n",
    "sns.set(style='darkgrid')\n",
    "\n",
    "data = pd.read_csv('/kaggle/input/wine-quality-dataset/WineQT.csv')\n",
    "data.head()"
   ]
  },
  {
   "cell_type": "code",
   "execution_count": null,
   "metadata": {
    "execution": {
     "iopub.execute_input": "2023-04-11T13:54:43.352897Z",
     "iopub.status.busy": "2023-04-11T13:54:43.352536Z",
     "iopub.status.idle": "2023-04-11T13:54:43.380776Z",
     "shell.execute_reply": "2023-04-11T13:54:43.379308Z",
     "shell.execute_reply.started": "2023-04-11T13:54:43.352862Z"
    }
   },
   "outputs": [],
   "source": [
    "data.info()"
   ]
  },
  {
   "cell_type": "markdown",
   "metadata": {},
   "source": [
    "1. No missing values.\n",
    "2. Id needs to be removed.\n",
    "3. quality is the output variable.\n",
    "4. All float64 values. All Real values.\n",
    "5. Minimal EDA needed."
   ]
  },
  {
   "cell_type": "code",
   "execution_count": null,
   "metadata": {
    "execution": {
     "iopub.execute_input": "2023-04-11T13:54:43.384165Z",
     "iopub.status.busy": "2023-04-11T13:54:43.383788Z",
     "iopub.status.idle": "2023-04-11T13:54:43.392880Z",
     "shell.execute_reply": "2023-04-11T13:54:43.391437Z",
     "shell.execute_reply.started": "2023-04-11T13:54:43.384131Z"
    }
   },
   "outputs": [],
   "source": [
    "#removing Id\n",
    "data.drop('Id',axis=1,inplace=True)"
   ]
  },
  {
   "cell_type": "code",
   "execution_count": null,
   "metadata": {
    "ExecuteTime": {
     "end_time": "2022-10-28T10:34:58.372054Z",
     "start_time": "2022-10-28T10:34:58.356405Z"
    },
    "execution": {
     "iopub.execute_input": "2023-04-11T13:54:43.395860Z",
     "iopub.status.busy": "2023-04-11T13:54:43.394662Z",
     "iopub.status.idle": "2023-04-11T13:54:43.410281Z",
     "shell.execute_reply": "2023-04-11T13:54:43.408648Z",
     "shell.execute_reply.started": "2023-04-11T13:54:43.395807Z"
    }
   },
   "outputs": [],
   "source": [
    "data['quality'].value_counts()"
   ]
  },
  {
   "cell_type": "markdown",
   "metadata": {},
   "source": [
    "6. Highly imbalanced output feature. Using SMOTE-ENN to increase representation. Let's have a look at correlation plot first."
   ]
  },
  {
   "cell_type": "code",
   "execution_count": null,
   "metadata": {
    "execution": {
     "iopub.execute_input": "2023-04-11T13:54:43.416458Z",
     "iopub.status.busy": "2023-04-11T13:54:43.412096Z",
     "iopub.status.idle": "2023-04-11T13:54:44.545229Z",
     "shell.execute_reply": "2023-04-11T13:54:44.544171Z",
     "shell.execute_reply.started": "2023-04-11T13:54:43.416412Z"
    },
    "id": "t_k_oqWdUeiM",
    "outputId": "bcd4ec67-23d8-40d2-899d-1fdca96521bd"
   },
   "outputs": [],
   "source": [
    "plt.figure(figsize=(10,8))\n",
    "sns.heatmap(data.corr(),\n",
    "            annot=True,\n",
    "            linewidths=.5,\n",
    "            center=0,\n",
    "            cbar=False,\n",
    "            cmap=\"YlGnBu\")\n",
    "plt.show()"
   ]
  },
  {
   "cell_type": "code",
   "execution_count": null,
   "metadata": {
    "execution": {
     "iopub.execute_input": "2023-04-11T13:54:44.547409Z",
     "iopub.status.busy": "2023-04-11T13:54:44.547038Z",
     "iopub.status.idle": "2023-04-11T13:54:44.750106Z",
     "shell.execute_reply": "2023-04-11T13:54:44.748475Z",
     "shell.execute_reply.started": "2023-04-11T13:54:44.547370Z"
    }
   },
   "outputs": [],
   "source": [
    "X = data.drop('quality', axis=1)\n",
    "y = data['quality']\n",
    "\n",
    "from sklearn.preprocessing import MinMaxScaler\n",
    "scaler = MinMaxScaler(feature_range =(0, 1))\n",
    "columns = X.columns\n",
    "scaler.fit(X)\n",
    "\n",
    "X = pd.DataFrame(scaler.transform(X))\n",
    "X.columns = columns"
   ]
  },
  {
   "cell_type": "code",
   "execution_count": null,
   "metadata": {
    "execution": {
     "iopub.execute_input": "2023-04-11T13:54:44.752713Z",
     "iopub.status.busy": "2023-04-11T13:54:44.752217Z",
     "iopub.status.idle": "2023-04-11T13:54:44.773889Z",
     "shell.execute_reply": "2023-04-11T13:54:44.772437Z",
     "shell.execute_reply.started": "2023-04-11T13:54:44.752660Z"
    }
   },
   "outputs": [],
   "source": [
    "X.head()"
   ]
  },
  {
   "cell_type": "code",
   "execution_count": null,
   "metadata": {
    "execution": {
     "iopub.execute_input": "2023-04-11T13:54:44.776457Z",
     "iopub.status.busy": "2023-04-11T13:54:44.775904Z",
     "iopub.status.idle": "2023-04-11T13:54:45.589229Z",
     "shell.execute_reply": "2023-04-11T13:54:45.586086Z",
     "shell.execute_reply.started": "2023-04-11T13:54:44.776400Z"
    }
   },
   "outputs": [],
   "source": [
    "from imblearn.combine import SMOTEENN\n",
    "from imblearn.under_sampling import EditedNearestNeighbours\n",
    "\n",
    "smote_enn = SMOTEENN(random_state=42)\n",
    "X, y = smote_enn.fit_resample(X, y)"
   ]
  },
  {
   "cell_type": "code",
   "execution_count": null,
   "metadata": {
    "execution": {
     "iopub.execute_input": "2023-04-11T13:54:45.596602Z",
     "iopub.status.busy": "2023-04-11T13:54:45.595492Z",
     "iopub.status.idle": "2023-04-11T13:54:45.606943Z",
     "shell.execute_reply": "2023-04-11T13:54:45.605684Z",
     "shell.execute_reply.started": "2023-04-11T13:54:45.596538Z"
    }
   },
   "outputs": [],
   "source": [
    "y.value_counts()"
   ]
  },
  {
   "cell_type": "code",
   "execution_count": null,
   "metadata": {
    "execution": {
     "iopub.execute_input": "2023-04-11T13:54:45.609952Z",
     "iopub.status.busy": "2023-04-11T13:54:45.609025Z",
     "iopub.status.idle": "2023-04-11T13:54:45.624096Z",
     "shell.execute_reply": "2023-04-11T13:54:45.623136Z",
     "shell.execute_reply.started": "2023-04-11T13:54:45.609903Z"
    }
   },
   "outputs": [],
   "source": [
    "from sklearn.model_selection import train_test_split\n",
    "X_train, X_test, y_train, y_test =train_test_split(X, y, test_size=.25, random_state=22)"
   ]
  },
  {
   "cell_type": "code",
   "execution_count": null,
   "metadata": {
    "execution": {
     "iopub.execute_input": "2023-04-11T13:54:45.627065Z",
     "iopub.status.busy": "2023-04-11T13:54:45.626129Z"
    }
   },
   "outputs": [],
   "source": [
    "from skopt import BayesSearchCV\n",
    "from skopt.space import Real, Categorical, Integer\n",
    "from sklearn.ensemble import RandomForestClassifier\n",
    "rf = RandomForestClassifier(random_state=0, n_jobs=-1)\n",
    "\n",
    "search_space = {\n",
    "        \"max_depth\": Integer(3, 13), \n",
    "        \"n_estimators\": Integer(10, 30)\n",
    "    }\n",
    "\n",
    "search = BayesSearchCV(rf, search_space, n_iter=20, scoring=\"accuracy\", cv=5, verbose= 0)\n",
    "search.fit(X_train, y_train)"
   ]
  },
  {
   "cell_type": "code",
   "execution_count": null,
   "metadata": {
    "id": "4WlyBCHVUeiO"
   },
   "outputs": [],
   "source": [
    "search.best_params_"
   ]
  },
  {
   "cell_type": "code",
   "execution_count": null,
   "metadata": {},
   "outputs": [],
   "source": [
    "rf.set_params(**search.best_params_)"
   ]
  },
  {
   "cell_type": "code",
   "execution_count": null,
   "metadata": {
    "id": "cvt9lwm3UeiO",
    "outputId": "2f206469-0cf5-497c-d170-7480d9c6d0d8"
   },
   "outputs": [],
   "source": [
    "rf.fit(X_train, y_train)"
   ]
  },
  {
   "cell_type": "code",
   "execution_count": null,
   "metadata": {
    "id": "jv6RuQ0tUeiP",
    "outputId": "d2870059-c99b-4ce8-dcd2-7174eca44efb"
   },
   "outputs": [],
   "source": [
    "print(rf.score(X_train, y_train))  # performance on train data)\n",
    "print(rf.score(X_test, y_test))  # performance on test data)"
   ]
  },
  {
   "cell_type": "code",
   "execution_count": null,
   "metadata": {},
   "outputs": [],
   "source": [
    "y_pred_train = rf.predict(X_train)\n",
    "\n",
    "from sklearn import metrics\n",
    "from sklearn.metrics import confusion_matrix, classification_report\n",
    "\n",
    "accuracy = metrics.accuracy_score(y_train, y_pred_train)\n",
    "print(\"Accuracy: {:.2f}\".format(accuracy))\n",
    "cm=confusion_matrix(y_train,y_pred_train)\n",
    "print('Confusion Matrix: \\n', cm)\n",
    "print(classification_report(y_train, y_pred_train))"
   ]
  },
  {
   "cell_type": "code",
   "execution_count": null,
   "metadata": {
    "id": "gQYeXyJ_UeiQ"
   },
   "outputs": [],
   "source": [
    "from sklearn.tree import export_graphviz\n",
    "from six import StringIO  \n",
    "from IPython.display import Image  \n",
    "import pydotplus\n",
    "import graphviz\n",
    "\n",
    "xvar = data.drop('quality', axis=1)\n",
    "feature_cols = xvar.columns"
   ]
  },
  {
   "cell_type": "code",
   "execution_count": null,
   "metadata": {
    "id": "8gfL_78N-4GP",
    "outputId": "e607042b-7203-4095-8b02-bd6ae49f77b2"
   },
   "outputs": [],
   "source": [
    "feature_importances = pd.DataFrame({'features': X_train.columns, 'Importance': rf.feature_importances_})\n",
    "feature_importances = feature_importances.sort_values('Importance',ascending=False).reset_index(drop=True)\n",
    "feature_importances"
   ]
  }
 ],
 "metadata": {
  "kernelspec": {
   "display_name": "Python 3",
   "language": "python",
   "name": "python3"
  },
  "language_info": {
   "codemirror_mode": {
    "name": "ipython",
    "version": 3
   },
   "file_extension": ".py",
   "mimetype": "text/x-python",
   "name": "python",
   "nbconvert_exporter": "python",
   "pygments_lexer": "ipython3",
   "version": "3.7.4"
  }
 },
 "nbformat": 4,
 "nbformat_minor": 4
}
